{
  "nbformat": 4,
  "nbformat_minor": 0,
  "metadata": {
    "colab": {
      "name": "Sohair_Ali_Practical_Session_1.ipynb",
      "provenance": []
    },
    "kernelspec": {
      "name": "python3",
      "display_name": "Python 3"
    },
    "language_info": {
      "name": "python"
    }
  },
  "cells": [
    {
      "cell_type": "markdown",
      "metadata": {
        "id": "uiXxtcH3SVTW"
      },
      "source": [
        "## Practical Work 1"
      ]
    },
    {
      "cell_type": "markdown",
      "metadata": {
        "id": "A4UN55HgSbTy"
      },
      "source": [
        "For this practical work, the student will have to develop a Python program that is able to implement the gradient descent in order to achieve the linear regression of a set of datapoints."
      ]
    },
    {
      "cell_type": "markdown",
      "metadata": {
        "id": "F9OoD3iqSfwf"
      },
      "source": [
        "#### Import numpy, matplotlib.pyplot and make it inline"
      ]
    },
    {
      "cell_type": "code",
      "metadata": {
        "id": "q75dnh1XSXKF"
      },
      "source": [
        "#Provided you are running IPython, the %matplotlib inline will make your plot outputs appear and be stored within the notebook.\n",
        "%matplotlib inline\n",
        "import numpy as np\n",
        "import matplotlib.pyplot as plt\n",
        " "
      ],
      "execution_count": 1,
      "outputs": []
    },
    {
      "cell_type": "markdown",
      "metadata": {
        "id": "6Zxr3RHNUnIr"
      },
      "source": [
        "#### Read RegData csv file into numpy array  (check your data)\n",
        "##### Data source\n",
        "https://college.cengage.com/mathematics/brase/understandable_statistics/7e/students/datasets/slr/frames/frame.html\n"
      ]
    },
    {
      "cell_type": "code",
      "metadata": {
        "id": "IgsVHqMYUo0Q"
      },
      "source": [
        "#to read data from csv file to NumPy array.\n",
        "import csv\n",
        "data_csv = []\n",
        "with open(\"RegData.csv\", 'rt') as read_csv:\n",
        "  data = csv.reader(read_csv)\n",
        "  for row in data:\n",
        "    #print(row)\n",
        "    data_csv.append(row)"
      ],
      "execution_count": 2,
      "outputs": []
    },
    {
      "cell_type": "markdown",
      "metadata": {
        "id": "e7JzDL8LWvYY"
      },
      "source": [
        "Explore your data"
      ]
    },
    {
      "cell_type": "code",
      "metadata": {
        "colab": {
          "base_uri": "https://localhost:8080/"
        },
        "id": "bax8cykGWxxD",
        "outputId": "edd47f2f-9913-4506-a759-f6ce3687c908"
      },
      "source": [
        "print(data_csv)\n",
        "print(type(data_csv)) # <class 'list'> \n",
        "\n",
        "np_data_csv = np.array(data_csv)\n",
        "print(np_data_csv)\n",
        "print(type(np_data_csv)) # <class 'numpy.ndarray'>"
      ],
      "execution_count": 3,
      "outputs": [
        {
          "output_type": "stream",
          "text": [
            "[['2.900000095', '4'], ['6.699999809', '7.400000095'], ['4.900000095', '5'], ['7.900000095', '7.199999809'], ['9.800000191', '7.900000095'], ['6.900000095', '6.099999905'], ['6.099999905', '6'], ['6.199999809', '5.800000191'], ['6', '5.199999809'], ['5.099999905', '4.199999809'], ['4.699999809', '4'], ['4.400000095', '4.400000095'], ['5.800000191', '5.199999809']]\n",
            "<class 'list'>\n",
            "[['2.900000095' '4']\n",
            " ['6.699999809' '7.400000095']\n",
            " ['4.900000095' '5']\n",
            " ['7.900000095' '7.199999809']\n",
            " ['9.800000191' '7.900000095']\n",
            " ['6.900000095' '6.099999905']\n",
            " ['6.099999905' '6']\n",
            " ['6.199999809' '5.800000191']\n",
            " ['6' '5.199999809']\n",
            " ['5.099999905' '4.199999809']\n",
            " ['4.699999809' '4']\n",
            " ['4.400000095' '4.400000095']\n",
            " ['5.800000191' '5.199999809']]\n",
            "<class 'numpy.ndarray'>\n"
          ],
          "name": "stdout"
        }
      ]
    },
    {
      "cell_type": "markdown",
      "metadata": {
        "id": "77cYSRX5Xi3j"
      },
      "source": [
        "Define variables X and y. Assign first column data to X and second column to y\n",
        "Note: X is the independent variable (input to LR model) and y is the dependent variable (output)"
      ]
    },
    {
      "cell_type": "code",
      "metadata": {
        "id": "zduMVHZ1XkST"
      },
      "source": [
        "X = np_data_csv[:,0]\n",
        "Y_actual = np_data_csv[:,1]\n",
        "\n",
        "# to convert from it string to float\n",
        "X = X.astype(float)\n",
        "Y_actual = Y_actual.astype(float)"
      ],
      "execution_count": 4,
      "outputs": []
    },
    {
      "cell_type": "markdown",
      "metadata": {
        "id": "NKci5noPX00-"
      },
      "source": [
        "#### Explore your data"
      ]
    },
    {
      "cell_type": "code",
      "metadata": {
        "colab": {
          "base_uri": "https://localhost:8080/"
        },
        "id": "fN_0wFCdX5Ua",
        "outputId": "5ee2ec03-b213-4cf7-9bb1-86db56258c71"
      },
      "source": [
        "print(\"features\")\n",
        "print(X)\n",
        "print(type(X))\n",
        "print(X.shape)\n",
        "print(\"Actual output\")\n",
        "print(Y_actual)"
      ],
      "execution_count": 5,
      "outputs": [
        {
          "output_type": "stream",
          "text": [
            "features\n",
            "[2.9000001  6.69999981 4.9000001  7.9000001  9.80000019 6.9000001\n",
            " 6.0999999  6.19999981 6.         5.0999999  4.69999981 4.4000001\n",
            " 5.80000019]\n",
            "<class 'numpy.ndarray'>\n",
            "(13,)\n",
            "Actual output\n",
            "[4.         7.4000001  5.         7.19999981 7.9000001  6.0999999\n",
            " 6.         5.80000019 5.19999981 4.19999981 4.         4.4000001\n",
            " 5.19999981]\n"
          ],
          "name": "stdout"
        }
      ]
    },
    {
      "cell_type": "markdown",
      "metadata": {
        "id": "O3TKwEVxbat3"
      },
      "source": [
        "#### Plot the original data (scatter plot of X,y)"
      ]
    },
    {
      "cell_type": "code",
      "metadata": {
        "colab": {
          "base_uri": "https://localhost:8080/",
          "height": 296
        },
        "id": "wIeKhgz-biVR",
        "outputId": "48f44b55-9567-4aa2-859e-fe4dd4f1cf11"
      },
      "source": [
        "plt.scatter(X, Y_actual, marker= '*', c= 'red')\n",
        "plt.xlabel('x_Features')\n",
        "plt.ylabel('Y_Actual')\n",
        "plt.title(\"Plot Original Data\")\n",
        "plt.show()"
      ],
      "execution_count": 6,
      "outputs": [
        {
          "output_type": "display_data",
          "data": {
            "image/png": "[encoded data removed]",
            "text/plain": [
              "<Figure size 432x288 with 1 Axes>"
            ]
          },
          "metadata": {
            "tags": [],
            "needs_background": "light"
          }
        }
      ]
    },
    {
      "cell_type": "markdown",
      "metadata": {
        "id": "ywwU7QPcc5RE"
      },
      "source": [
        "# Build Function for Making Gradient Descent"
      ]
    },
    {
      "cell_type": "code",
      "metadata": {
        "id": "TND4apH9azW7"
      },
      "source": [
        "def Gradient(x, y, max_iteration,alpha, stop_critia ):\n",
        "  theta0 = 0.0\n",
        "  theta1 = 0.0\n",
        "  theta0_list = []\n",
        "  theta1_list = []\n",
        "  loss_fun = []\n",
        "  m = len(x) # Calculate the number of observations # number of rows\n",
        "  count = 0\n",
        "  for i in range(max_iteration):\n",
        "    count+= 1\n",
        "    # Step 1 # predict output\n",
        "    y_predict = theta0 + theta1*x \n",
        "    # Step 2 # calculate cost function\n",
        "    cost_old = (1/(2*m))* np.sum((y_predict - y)**2)\n",
        "    \n",
        "    # Step 3 # calculate gradient\n",
        "    gradient_theta0 = (1/m)* np.sum((y_predict- y))\n",
        "    gradient_theta1 = (1/m)* np.sum((y_predict-y )*x)\n",
        "    # Calculate  update for Parameters\n",
        "    theat0 = theta0 - (alpha*gradient_theta0)\n",
        "    theta1 = theta1 - (alpha*gradient_theta0)\n",
        "    \n",
        "    # calculat\n",
        "    g = np.linalg.norm([gradient_theta0,gradient_theta1],2)\n",
        "\n",
        "    theta0_list.append(theta0)\n",
        "    theta1_list.append(theta1)\n",
        "    # calculate Y_predict and cost_function After update paramters\n",
        "    y_predict = theta0 + theta1*x \n",
        "    cost_new = (1/(2*m))* np.sum((y_predict - y)**2)\n",
        "\n",
        "    loss_fun.append(cost_new)\n",
        "\n",
        "    if abs(cost_new - cost_old) < stop_critia:         #  stop critical cost function (stop when it doesn't decrease with iteration)\n",
        "       print(f\"Convergence occure at {count} iterations\")\n",
        "       return y_predict, theta0_list , theta1_list , loss_fun, g\n",
        "    \n",
        "    if g< 0.001:                                     # stop critical Gradient (check if the algorithm reached the minimum )\n",
        "       return y_predict, theta0_list , theta1_list , loss_fun, g\n",
        "\n",
        "\n",
        "  print(f\"We Reach {max_iteration} iterations\")\n",
        "  return y_predict, theta0_list , theta1_list , loss_fun,g\n"
      ],
      "execution_count": 7,
      "outputs": []
    },
    {
      "cell_type": "code",
      "metadata": {
        "colab": {
          "base_uri": "https://localhost:8080/"
        },
        "id": "Oepya2-viefM",
        "outputId": "6842bd70-7b9d-45c0-aea4-05c9ab590b4d"
      },
      "source": [
        "ypredict, list0, list1, loss, g = Gradient( X, Y_actual, 1000, 0.01, 0.0001)\n",
        "print(loss)\n",
        "print(g)"
      ],
      "execution_count": 8,
      "outputs": [
        {
          "output_type": "stream",
          "text": [
            "Convergence occure at 64 iterations\n",
            "[14.412895765076943, 12.741089416547016, 11.264348128392172, 9.960021444439073, 8.808082561332961, 7.7908248076789715, 6.892593213682439, 6.0995471157744925, 5.3994502093367895, 4.781484877119953, 4.23608798754049, 3.7548056812737842, 3.3301649513299516, 2.955560075433554, 2.6251521838558034, 2.3337804442548538, 2.076883520561146, 1.8504301181492633, 1.650857564808227, 1.4750174984307267, 1.3201278397211782, 1.183730323193711, 1.0636529437278461, 0.9579767502398596, 0.865006483733122, 0.7832446151029886, 0.7113683894685364, 0.6482095292604472, 0.5927362884980548, 0.5440375862459699, 0.5013089786886563, 0.4638402570747548, 0.4310044833817595, 0.40224829730736905, 0.3770833474349501, 0.355078716437696, 0.33585422523617364, 0.31907451433442463, 0.30444381233157725, 0.2917013120169109, 0.2806170836637338, 0.270988463280384, 0.2626368607781807, 0.2554049393850119, 0.24915412326573178, 0.24376239529170984, 0.23912235130704973, 0.2351394811347313, 0.23173065001112525, 0.2288227571840452, 0.22635155110383232, 0.2242605830196121, 0.22250028289988433, 0.2210271434598525, 0.21980299972556183, 0.2187943930219156, 0.21797200956002732, 0.21731018493863458, 0.2167864668816995, 0.21638122942508986, 0.21607733255287942, 0.215859821980232, 0.2157156643956112, 0.21563351401950667]\n",
            "0.14890283027590573\n"
          ],
          "name": "stdout"
        }
      ]
    },
    {
      "cell_type": "markdown",
      "metadata": {
        "id": "R9V4EIpedea9"
      },
      "source": [
        "## R2 Score"
      ]
    },
    {
      "cell_type": "code",
      "metadata": {
        "colab": {
          "base_uri": "https://localhost:8080/"
        },
        "id": "mnPuVHRlddZh",
        "outputId": "3225f52c-f467-4f46-815d-42a57c774e66"
      },
      "source": [
        "### to evaluate the performance (measure accuracy) of model use r2_score\n",
        "\n",
        "from sklearn.metrics import r2_score\n",
        "score = r2_score(Y_actual, ypredict)  # notes y_actual mustbe the first paramter\n",
        "print(score)"
      ],
      "execution_count": 25,
      "outputs": [
        {
          "output_type": "stream",
          "text": [
            "0.7295178314277504\n"
          ],
          "name": "stdout"
        }
      ]
    },
    {
      "cell_type": "markdown",
      "metadata": {
        "id": "L9fpl5FwkVCx"
      },
      "source": [
        "#### Plot  LR equation output (fitted line) with the original data (scatter plot of X,y)"
      ]
    },
    {
      "cell_type": "code",
      "metadata": {
        "colab": {
          "base_uri": "https://localhost:8080/",
          "height": 265
        },
        "id": "IabIhRTkkfHp",
        "outputId": "89be12f6-98ad-47df-9730-94a66b66f494"
      },
      "source": [
        "\n",
        "plt.scatter(X, Y_actual, marker= '*', c= 'red')  \n",
        "plt.plot(X, ypredict, alpha=0.5)\n",
        "plt.show()"
      ],
      "execution_count": 10,
      "outputs": [
        {
          "output_type": "display_data",
          "data": {
            "image/png": "[encoded data removed]",
            "text/plain": [
              "<Figure size 432x288 with 1 Axes>"
            ]
          },
          "metadata": {
            "tags": [],
            "needs_background": "light"
          }
        }
      ]
    },
    {
      "cell_type": "markdown",
      "metadata": {
        "id": "YWqBzWrJsDok"
      },
      "source": [
        "GD vectorize Implementation"
      ]
    },
    {
      "cell_type": "markdown",
      "metadata": {
        "id": "6Z1y_ghlsJqj"
      },
      "source": [
        "### Implement GD without iterate through data points i.e. use vector operations"
      ]
    },
    {
      "cell_type": "code",
      "metadata": {
        "colab": {
          "base_uri": "https://localhost:8080/"
        },
        "id": "TmUt9DIFsKyo",
        "outputId": "a50f6923-5a17-4aa0-8d59-4a4e7bda258e"
      },
      "source": [
        "alpha = 0.01\n",
        "x=np.column_stack((np.ones(len(X),dtype=int), X))\n",
        "print(x.shape)\n",
        "print(x)\n",
        "y= Y_actual.reshape(-1,1)\n",
        "print(y.shape)\n",
        "m=(x.shape)[0]\n",
        "thetas=np.zeros((x.shape[1],1))\n",
        "print(thetas.shape)\n",
        "loss_function = []\n",
        "for c in range(100):\n",
        "        y_Predict= x@thetas\n",
        "        \n",
        "        cost_fun_old=(1/(2*m))* np.sum((y_Predict - y)**2)     \n",
        "        \n",
        "        Grad= (np.transpose(x)@(y_Predict-y))/m\n",
        "\n",
        "        thetas= thetas - (alpha*Grad)\n",
        "        ## update After Take Gradient\n",
        "        y_Predict= x@thetas\n",
        "        \n",
        "        cost_fun_new= (1/(2*m))* np.sum((y_Predict - y)**2)\n",
        "        loss_function.append(cost_fun_new)\n",
        "\n",
        "print(loss_function)\n",
        "    "
      ],
      "execution_count": 11,
      "outputs": [
        {
          "output_type": "stream",
          "text": [
            "(13, 2)\n",
            "[[1.         2.9000001 ]\n",
            " [1.         6.69999981]\n",
            " [1.         4.9000001 ]\n",
            " [1.         7.9000001 ]\n",
            " [1.         9.80000019]\n",
            " [1.         6.9000001 ]\n",
            " [1.         6.0999999 ]\n",
            " [1.         6.19999981]\n",
            " [1.         6.        ]\n",
            " [1.         5.0999999 ]\n",
            " [1.         4.69999981]\n",
            " [1.         4.4000001 ]\n",
            " [1.         5.80000019]]\n",
            "(13, 1)\n",
            "(2, 1)\n",
            "[6.175608808043305, 2.4178300654795644, 1.023798104945009, 0.5066182835290438, 0.3147143277319524, 0.24347430554386096, 0.21699567226372105, 0.2071217302429779, 0.2034075117887275, 0.20197836678314676, 0.20139696055681952, 0.2011301014330744, 0.20097999730449675, 0.20087327540003716, 0.20078271736477765, 0.20069822621899536, 0.20061605630353424, 0.2005348180360124, 0.20045399584099607, 0.2003733983635334, 0.20029295452116636, 0.20021263784768248, 0.20013243842778117, 0.20005235248600087, 0.19997237852463973, 0.19989251589108534, 0.19981276424635372, 0.19973312336793805, 0.19965359307667402, 0.1995741732096101, 0.19949486360994267, 0.1994156641232827, 0.1993365745962705, 0.19925759487606134, 0.19917872481013488, 0.19909996424622492, 0.19902131303229062, 0.19894277101650895, 0.19886433804726975, 0.19878601397317405, 0.19870779864303334, 0.1986296919058688, 0.19855169361091188, 0.1984738036076029, 0.1983960217455914, 0.19831834787473548, 0.1982407818451022, 0.19816332350696642, 0.1980859727108104, 0.19800872930732502, 0.19793159314740794, 0.1978545640821633, 0.1977776419629032, 0.1977008266411447, 0.19762411796861237, 0.1975475157972358, 0.19747101997915034, 0.1973946303666966, 0.19731834681242078, 0.19724216916907295, 0.19716609728960802, 0.19709013102718492, 0.19701427023516685, 0.1969385147671201, 0.19686286447681445, 0.19678731921822268, 0.19671187884552074, 0.196636543213086, 0.19656131217549933, 0.1964861855875423, 0.19641116330419903, 0.1963362451806543, 0.19626143107229435, 0.19618672083470604, 0.19611211432367684, 0.1960376113951943, 0.19596321190544608, 0.19588891571081918, 0.1958147226679004, 0.19574063263347571, 0.1956666454645291, 0.19559276101824422, 0.1955189791520021, 0.19544529972338262, 0.1953717225901625, 0.19529824761031664, 0.19522487464201657, 0.19515160354363142, 0.19507843417372606, 0.19500536639106283, 0.19493240005459903, 0.19485953502348843, 0.19478677115708024, 0.194714108314919, 0.19464154635674388, 0.19456908514248958, 0.19449672453228425, 0.19442446438645122, 0.1943523045655071, 0.19428024493016202]\n"
          ],
          "name": "stdout"
        }
      ]
    },
    {
      "cell_type": "markdown",
      "metadata": {
        "id": "I2geFJWE85Lu"
      },
      "source": [
        "# Plot loss vs. iterations"
      ]
    },
    {
      "cell_type": "code",
      "metadata": {
        "colab": {
          "base_uri": "https://localhost:8080/",
          "height": 265
        },
        "id": "Fq8PoTBU00bR",
        "outputId": "cc795001-6719-4442-a990-f6dc9ab81c50"
      },
      "source": [
        "plt.plot(range(len(loss_function)), loss_function)\n",
        "plt.show()"
      ],
      "execution_count": 12,
      "outputs": [
        {
          "output_type": "display_data",
          "data": {
            "image/png": "[encoded data removed]",
            "text/plain": [
              "<Figure size 432x288 with 1 Axes>"
            ]
          },
          "metadata": {
            "tags": [],
            "needs_background": "light"
          }
        }
      ]
    },
    {
      "cell_type": "markdown",
      "metadata": {
        "id": "fZNO2gkI9JDI"
      },
      "source": [
        "## R_2 score"
      ]
    },
    {
      "cell_type": "code",
      "metadata": {
        "colab": {
          "base_uri": "https://localhost:8080/"
        },
        "id": "6TPrA7nV9G2E",
        "outputId": "b4c79b78-9213-42a7-ccac-2a6cf88924d9"
      },
      "source": [
        "from sklearn.metrics import r2_score\n",
        "R2 = r2_score(y, y_Predict)\n",
        "print(R2)"
      ],
      "execution_count": 13,
      "outputs": [
        {
          "output_type": "stream",
          "text": [
            "0.7563025293243409\n"
          ],
          "name": "stdout"
        }
      ]
    },
    {
      "cell_type": "markdown",
      "metadata": {
        "id": "o5ZK8AR69Xwg"
      },
      "source": [
        "## Multivariate LR"
      ]
    },
    {
      "cell_type": "markdown",
      "metadata": {
        "id": "kYKBTC13-lNb"
      },
      "source": [
        "#### Read MultipleLR csv file into numpy array  (check your data)\n",
        "##### Data source"
      ]
    },
    {
      "cell_type": "code",
      "metadata": {
        "colab": {
          "base_uri": "https://localhost:8080/"
        },
        "id": "NzvCYw-L9ZaC",
        "outputId": "f4c1a440-3fbb-41ec-832f-004f60877de0"
      },
      "source": [
        "mul_data = np.genfromtxt('MultipleLR.csv',delimiter=',')\n",
        "print(type(mul_data))\n",
        "print(mul_data)"
      ],
      "execution_count": 14,
      "outputs": [
        {
          "output_type": "stream",
          "text": [
            "<class 'numpy.ndarray'>\n",
            "[[ 73.  80.  75. 152.]\n",
            " [ 93.  88.  93. 185.]\n",
            " [ 89.  91.  90. 180.]\n",
            " [ 96.  98. 100. 196.]\n",
            " [ 73.  66.  70. 142.]\n",
            " [ 53.  46.  55. 101.]\n",
            " [ 69.  74.  77. 149.]\n",
            " [ 47.  56.  60. 115.]\n",
            " [ 87.  79.  90. 175.]\n",
            " [ 79.  70.  88. 164.]\n",
            " [ 69.  70.  73. 141.]\n",
            " [ 70.  65.  74. 141.]\n",
            " [ 93.  95.  91. 184.]\n",
            " [ 79.  80.  73. 152.]\n",
            " [ 70.  73.  78. 148.]\n",
            " [ 93.  89.  96. 192.]\n",
            " [ 78.  75.  68. 147.]\n",
            " [ 81.  90.  93. 183.]\n",
            " [ 88.  92.  86. 177.]\n",
            " [ 78.  83.  77. 159.]\n",
            " [ 82.  86.  90. 177.]\n",
            " [ 86.  82.  89. 175.]\n",
            " [ 78.  83.  85. 175.]\n",
            " [ 76.  83.  71. 149.]\n",
            " [ 96.  93.  95. 192.]]\n"
          ],
          "name": "stdout"
        }
      ]
    },
    {
      "cell_type": "code",
      "metadata": {
        "colab": {
          "base_uri": "https://localhost:8080/"
        },
        "id": "TdJqYgMh_nK1",
        "outputId": "76725a4d-24c6-44da-bc5f-3ea940f13182"
      },
      "source": [
        "# seperate column of features and colum of predict\n",
        "mul_x = mul_data[:, :3]\n",
        "print(mul_x.shape)\n",
        "print(mul_x)\n",
        "mul_y_actual = mul_data[:,3]\n",
        "print(mul_y_actual.shape)"
      ],
      "execution_count": 15,
      "outputs": [
        {
          "output_type": "stream",
          "text": [
            "(25, 3)\n",
            "[[ 73.  80.  75.]\n",
            " [ 93.  88.  93.]\n",
            " [ 89.  91.  90.]\n",
            " [ 96.  98. 100.]\n",
            " [ 73.  66.  70.]\n",
            " [ 53.  46.  55.]\n",
            " [ 69.  74.  77.]\n",
            " [ 47.  56.  60.]\n",
            " [ 87.  79.  90.]\n",
            " [ 79.  70.  88.]\n",
            " [ 69.  70.  73.]\n",
            " [ 70.  65.  74.]\n",
            " [ 93.  95.  91.]\n",
            " [ 79.  80.  73.]\n",
            " [ 70.  73.  78.]\n",
            " [ 93.  89.  96.]\n",
            " [ 78.  75.  68.]\n",
            " [ 81.  90.  93.]\n",
            " [ 88.  92.  86.]\n",
            " [ 78.  83.  77.]\n",
            " [ 82.  86.  90.]\n",
            " [ 86.  82.  89.]\n",
            " [ 78.  83.  85.]\n",
            " [ 76.  83.  71.]\n",
            " [ 96.  93.  95.]]\n",
            "(25,)\n"
          ],
          "name": "stdout"
        }
      ]
    },
    {
      "cell_type": "code",
      "metadata": {
        "colab": {
          "base_uri": "https://localhost:8080/"
        },
        "id": "HSXE-sB_Ai9B",
        "outputId": "69eef10f-5555-4621-cf25-21121642cd3f"
      },
      "source": [
        "# reshape of column of features and colum of predict\n",
        "np.column_stack((np.ones(len(X),dtype=int), X))\n",
        "mul_x = np.column_stack((np.ones(len(mul_data), dtype=int), mul_x)) # add column of x0\n",
        "print(mul_x)\n",
        "print(mul_x.shape)"
      ],
      "execution_count": 16,
      "outputs": [
        {
          "output_type": "stream",
          "text": [
            "[[  1.  73.  80.  75.]\n",
            " [  1.  93.  88.  93.]\n",
            " [  1.  89.  91.  90.]\n",
            " [  1.  96.  98. 100.]\n",
            " [  1.  73.  66.  70.]\n",
            " [  1.  53.  46.  55.]\n",
            " [  1.  69.  74.  77.]\n",
            " [  1.  47.  56.  60.]\n",
            " [  1.  87.  79.  90.]\n",
            " [  1.  79.  70.  88.]\n",
            " [  1.  69.  70.  73.]\n",
            " [  1.  70.  65.  74.]\n",
            " [  1.  93.  95.  91.]\n",
            " [  1.  79.  80.  73.]\n",
            " [  1.  70.  73.  78.]\n",
            " [  1.  93.  89.  96.]\n",
            " [  1.  78.  75.  68.]\n",
            " [  1.  81.  90.  93.]\n",
            " [  1.  88.  92.  86.]\n",
            " [  1.  78.  83.  77.]\n",
            " [  1.  82.  86.  90.]\n",
            " [  1.  86.  82.  89.]\n",
            " [  1.  78.  83.  85.]\n",
            " [  1.  76.  83.  71.]\n",
            " [  1.  96.  93.  95.]]\n",
            "(25, 4)\n"
          ],
          "name": "stdout"
        }
      ]
    },
    {
      "cell_type": "code",
      "metadata": {
        "colab": {
          "base_uri": "https://localhost:8080/"
        },
        "id": "sMncxkOmCdK1",
        "outputId": "570822c5-d111-4dc1-a711-c22e47c5856d"
      },
      "source": [
        "mul_y_actual = mul_y_actual.reshape(-1,1)\n",
        "print(mul_y_actual.shape)"
      ],
      "execution_count": 17,
      "outputs": [
        {
          "output_type": "stream",
          "text": [
            "(25, 1)\n"
          ],
          "name": "stdout"
        }
      ]
    },
    {
      "cell_type": "markdown",
      "metadata": {
        "id": "CQMeQZKeC7Ho"
      },
      "source": [
        "#### Predict y values using the LR equation\n",
        "##### h(x)= theta_0 + theta_1 * x1 + theta_2 * x2 + theta_3 * x3"
      ]
    },
    {
      "cell_type": "code",
      "metadata": {
        "id": "wi4scmFHC8Ha"
      },
      "source": [
        "def Batch_GD(x,y,iterations,alpha,stop_critia):\n",
        "    loss=[]\n",
        "    \n",
        "    m=(x.shape)[0]\n",
        "    thetas=np.zeros((x.shape[1],1))\n",
        "    count=0\n",
        "    epoch=0\n",
        "    \n",
        "    while epoch < iterations :\n",
        "        count+=1\n",
        "        yPredict= x@thetas\n",
        "        \n",
        "        cost_fun_old= (1/(2*m))*(np.sum((yPredict-y)**2)) \n",
        "        \n",
        "        Grad= (np.transpose(x)@(yPredict-y))/m\n",
        "      \n",
        "        thetas= thetas - (alpha*Grad)\n",
        "      \n",
        "        g = np.linalg.norm(Grad, 2)\n",
        "        #print(g)\n",
        "        yPredict= x@thetas\n",
        "\n",
        "        cost_fun_new=(1/(2*m))*(np.sum((yPredict-y)**2)) \n",
        "        \n",
        "        loss.append(cost_fun_new)\n",
        "        \n",
        "        if abs(cost_fun_new - cost_fun_old)<stop_critia:\n",
        "            print(f\"Convergence occure at {count} iterations\")\n",
        "            return r2_score(y,yPredict), thetas, yPredict,loss\n",
        "\n",
        "        if g< 0.01:                                     # stop critical Gradient (check if the algorithm reached the minimum )\n",
        "            return   r2_score(y,yPredict), thetas, yPredict,loss\n",
        "        \n",
        "        epoch+=1\n",
        "\n",
        "    print(f\"We Reach {iterations} iterations\")\n",
        "    return r2_score(y,yPredict), thetas, yPredict,loss"
      ],
      "execution_count": 18,
      "outputs": []
    },
    {
      "cell_type": "code",
      "metadata": {
        "colab": {
          "base_uri": "https://localhost:8080/"
        },
        "id": "VrGT-IcIHKuc",
        "outputId": "5cde8dde-54fd-44c1-bb82-4900a6ba3d64"
      },
      "source": [
        "Score,Thetas,  mul_y_Predict ,loss=Batch_GD(mul_x,mul_y_actual,1000,0.0001,0.0001)\n",
        "print(Score)"
      ],
      "execution_count": 19,
      "outputs": [
        {
          "output_type": "stream",
          "text": [
            "We Reach 1000 iterations\n",
            "0.9886850607889688\n"
          ],
          "name": "stdout"
        }
      ]
    },
    {
      "cell_type": "markdown",
      "metadata": {
        "id": "9ZJJSZuJEz1g"
      },
      "source": [
        "### Plot loss vs. iterations"
      ]
    },
    {
      "cell_type": "code",
      "metadata": {
        "colab": {
          "base_uri": "https://localhost:8080/",
          "height": 295
        },
        "id": "0gg4Dc9PE0yN",
        "outputId": "745d21f2-fa6b-49d6-de5c-71391fc656d6"
      },
      "source": [
        "plt.plot(loss , c = 'red')\n",
        "plt.xlabel('Iterations')\n",
        "plt.ylabel('Loss')\n",
        "plt.title(\"Plot Loss Vs Iterations\")\n",
        "plt.show()"
      ],
      "execution_count": 20,
      "outputs": [
        {
          "output_type": "display_data",
          "data": {
            "image/png": "[encoded data removed]",
            "text/plain": [
              "<Figure size 432x288 with 1 Axes>"
            ]
          },
          "metadata": {
            "tags": [],
            "needs_background": "light"
          }
        }
      ]
    },
    {
      "cell_type": "markdown",
      "metadata": {
        "id": "ffBYm7SAE_q6"
      },
      "source": [
        "#### Use R2 score to evaluate LR equation output"
      ]
    },
    {
      "cell_type": "code",
      "metadata": {
        "colab": {
          "base_uri": "https://localhost:8080/"
        },
        "id": "D6dD0CIjFENj",
        "outputId": "5339a8eb-cda2-41b8-a926-b6a3c41dab68"
      },
      "source": [
        "print(mul_y_Predict)\n",
        "from sklearn.metrics import r2_score\n",
        "R2 = r2_score(mul_y_actual,  mul_y_Predict)\n",
        "print(R2)"
      ],
      "execution_count": 21,
      "outputs": [
        {
          "output_type": "stream",
          "text": [
            "[[152.87121322]\n",
            " [184.85674383]\n",
            " [181.47483649]\n",
            " [198.75052368]\n",
            " [140.34382743]\n",
            " [105.31205204]\n",
            " [150.10779197]\n",
            " [113.11610301]\n",
            " [174.37742357]\n",
            " [164.06972743]\n",
            " [143.81388672]\n",
            " [142.72273052]\n",
            " [186.36979543]\n",
            " [153.41203893]\n",
            " [151.08774876]\n",
            " [188.54161627]\n",
            " [145.10262039]\n",
            " [180.58785665]\n",
            " [177.3277855 ]\n",
            " [158.74612896]\n",
            " [175.79168644]\n",
            " [174.43302327]\n",
            " [167.19171348]\n",
            " [151.52786662]\n",
            " [190.88314212]]\n",
            "0.9886850607889688\n"
          ],
          "name": "stdout"
        }
      ]
    },
    {
      "cell_type": "markdown",
      "metadata": {
        "id": "EkPkHFW_JH0v"
      },
      "source": [
        "# Bonus\n",
        "## LR Using sklearn"
      ]
    },
    {
      "cell_type": "code",
      "metadata": {
        "id": "tetjbKKFJJQA"
      },
      "source": [
        "# import libraries\n",
        "import matplotlib.pyplot as plt\n",
        "import numpy as np\n",
        "from sklearn import datasets, linear_model\n",
        "from sklearn.metrics import mean_squared_error, r2_score\n",
        "\n"
      ],
      "execution_count": 22,
      "outputs": []
    },
    {
      "cell_type": "markdown",
      "metadata": {
        "id": "87qAiwfvJuqo"
      },
      "source": [
        "#### Train the model (fit the model to the training data)\n"
      ]
    },
    {
      "cell_type": "code",
      "metadata": {
        "id": "oQsLFtSQJtsB",
        "colab": {
          "base_uri": "https://localhost:8080/"
        },
        "outputId": "4ae9ed6e-af63-4092-d047-5a5b91693f44"
      },
      "source": [
        "model = linear_model.LinearRegression()\n",
        "print(X.shape)\n",
        "X = X.reshape(-1,1)\n",
        "print(X.shape)\n",
        "print(Y_actual.shape)\n",
        "model.fit(X, Y_actual)\n",
        "\n",
        "Y_Predict = model.predict(X)\n",
        "error  = mean_squared_error(Y_actual, Y_Predict)\n",
        "score = r2_score(Y_actual, Y_Predict)\n",
        "print(f\"Error{error} , R2_score= {score}\")\n",
        " \n",
        "\n",
        "        # #Plot Sklearn Linear Regression Algorithm\n",
        "        # plt.scatter(X,y , color = 'red')\n",
        "        # plt.plot(X , model.predict(X) , color = 'k')\n",
        "        # plt.xlabel('x')\n",
        "        # plt.ylabel('y')\n",
        "        # plt.title(\"Plot Sklearn Linear Regression Algorithm\")\n",
        "        # plt.show()"
      ],
      "execution_count": 23,
      "outputs": [
        {
          "output_type": "stream",
          "text": [
            "(13,)\n",
            "(13, 1)\n",
            "(13,)\n",
            "Error0.284901060145438 , R2_score= 0.8213156778363777\n"
          ],
          "name": "stdout"
        }
      ]
    },
    {
      "cell_type": "code",
      "metadata": {
        "colab": {
          "base_uri": "https://localhost:8080/",
          "height": 295
        },
        "id": "F0okn26P3SKy",
        "outputId": "3afd1d28-ad3b-44ab-f8c4-99a9594bb0e8"
      },
      "source": [
        "###Plot Sklearn Linear Regression Algorithm\n",
        "plt.scatter(X, Y_actual, c=\"red\")\n",
        "plt.plot(X,  Y_Predict, c = 'blue')\n",
        "plt.xlabel('x')\n",
        "plt.ylabel('y')\n",
        "plt.title(\"Sklearn Linear Regression Model\")\n",
        "plt.show()"
      ],
      "execution_count": 24,
      "outputs": [
        {
          "output_type": "display_data",
          "data": {
            "image/png": "[encoded data removed]",
            "text/plain": [
              "<Figure size 432x288 with 1 Axes>"
            ]
          },
          "metadata": {
            "tags": [],
            "needs_background": "light"
          }
        }
      ]
    }
  ]
}